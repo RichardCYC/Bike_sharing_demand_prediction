{
  "nbformat": 4,
  "nbformat_minor": 0,
  "metadata": {
    "colab": {
      "name": "Bike share prediction.ipynb",
      "provenance": [],
      "collapsed_sections": [],
      "authorship_tag": "ABX9TyMKmLtdeqcLspC3xjvyW53N",
      "include_colab_link": true
    },
    "kernelspec": {
      "name": "python3",
      "display_name": "Python 3"
    }
  },
  "cells": [
    {
      "cell_type": "markdown",
      "metadata": {
        "id": "view-in-github",
        "colab_type": "text"
      },
      "source": [
        "<a href=\"https://colab.research.google.com/github/RichardCYC/Bike_sharing_demand_prediction/blob/main/Bike_share_prediction.ipynb\" target=\"_parent\"><img src=\"https://colab.research.google.com/assets/colab-badge.svg\" alt=\"Open In Colab\"/></a>"
      ]
    },
    {
      "cell_type": "code",
      "metadata": {
        "colab": {
          "base_uri": "https://localhost:8080/",
          "height": 52
        },
        "id": "7raZb1YFwxLn",
        "outputId": "d033dac3-8fed-4b23-c163-09bb9722a9fc"
      },
      "source": [
        "# mount google drive to get data\n",
        "\n",
        "from google.colab import drive\n",
        "import os\n",
        "drive.mount('/content/gdrive')\n",
        "os.chdir('/content/gdrive/MyDrive/Colab_Notebooks') \n",
        "os.getcwd() "
      ],
      "execution_count": null,
      "outputs": [
        {
          "output_type": "stream",
          "text": [
            "Mounted at /content/gdrive\n"
          ],
          "name": "stdout"
        },
        {
          "output_type": "execute_result",
          "data": {
            "application/vnd.google.colaboratory.intrinsic+json": {
              "type": "string"
            },
            "text/plain": [
              "'/content/gdrive/MyDrive/Colab_Notebooks'"
            ]
          },
          "metadata": {
            "tags": []
          },
          "execution_count": 1
        }
      ]
    },
    {
      "cell_type": "code",
      "metadata": {
        "id": "JPLi9r1M-21F"
      },
      "source": [
        "import pandas as pd\n",
        "import matplotlib.pyplot as plt\n",
        "import numpy as np\n",
        "import seaborn as sns\n",
        "import warnings\n",
        "warnings.filterwarnings(\"ignore\") # ignore warnings\n",
        "from IPython.display import display\n",
        "from sklearn.preprocessing import LabelEncoder"
      ],
      "execution_count": null,
      "outputs": []
    },
    {
      "cell_type": "code",
      "metadata": {
        "id": "C1QJKTE5-4pk"
      },
      "source": [
        "# read data\n",
        "df = pd.read_csv('Bike_share_prediction/train.csv') \n",
        "df_test = pd.read_csv('Bike_share_prediction/test.csv') \n",
        "df = pd.concat([df, df_test]).reset_index() # 也可寫成 df = df.append(df_test).reset_index()"
      ],
      "execution_count": null,
      "outputs": []
    },
    {
      "cell_type": "code",
      "metadata": {
        "colab": {
          "base_uri": "https://localhost:8080/"
        },
        "id": "oPFM6Voc_LGr",
        "outputId": "16bda162-8564-4caa-9eb0-214ce850350e"
      },
      "source": [
        "df.info()"
      ],
      "execution_count": null,
      "outputs": [
        {
          "output_type": "stream",
          "text": [
            "<class 'pandas.core.frame.DataFrame'>\n",
            "RangeIndex: 17379 entries, 0 to 17378\n",
            "Data columns (total 13 columns):\n",
            " #   Column      Non-Null Count  Dtype  \n",
            "---  ------      --------------  -----  \n",
            " 0   index       17379 non-null  int64  \n",
            " 1   datetime    17379 non-null  object \n",
            " 2   season      17379 non-null  int64  \n",
            " 3   holiday     17379 non-null  int64  \n",
            " 4   workingday  17379 non-null  int64  \n",
            " 5   weather     17379 non-null  int64  \n",
            " 6   temp        17379 non-null  float64\n",
            " 7   atemp       17379 non-null  float64\n",
            " 8   humidity    17379 non-null  int64  \n",
            " 9   windspeed   17379 non-null  float64\n",
            " 10  casual      10886 non-null  float64\n",
            " 11  registered  10886 non-null  float64\n",
            " 12  count       10886 non-null  float64\n",
            "dtypes: float64(6), int64(6), object(1)\n",
            "memory usage: 1.7+ MB\n"
          ],
          "name": "stdout"
        }
      ]
    },
    {
      "cell_type": "code",
      "metadata": {
        "id": "TXdsC7XP_jbW"
      },
      "source": [
        "df['date'] = df['datetime'].apply(lambda x:x[:10])\n",
        "df['hour'] = df['datetime'].apply(lambda x:x[11:])\n",
        "df['month'] = df['datetime'].apply(lambda x:x[5:7])\n",
        "df['day'] = df['datetime'].apply(lambda x:x[8:10])\n",
        "df['yearmonth'] = df['datetime'].apply(lambda x:x[:7])"
      ],
      "execution_count": null,
      "outputs": []
    },
    {
      "cell_type": "code",
      "metadata": {
        "id": "ggJstdLGTGnR"
      },
      "source": [
        "df_monthcount = df.groupby('yearmonth').mean()['count'].reset_index()\n",
        "\n",
        "# 處理月份名稱（改為後一月）\n",
        "df_monthcount['yearmonth'] = df_monthcount['yearmonth'].apply(lambda x:str(int(x[:4])+1)+'-01' if '-12' in x else (str(x[:6])+str(int(x[-1])+1) if str(x[-2:]) != '09' else str(x[:5])+str(int(x[-1])+1)))"
      ],
      "execution_count": null,
      "outputs": []
    },
    {
      "cell_type": "code",
      "metadata": {
        "id": "w5fQuJh7TYqC"
      },
      "source": [
        "df = df.merge(df_monthcount, on = 'yearmonth', how = 'left')\n",
        "df = df.rename(columns={'count_x': 'count', 'count_y': 'premonth_count'})"
      ],
      "execution_count": null,
      "outputs": []
    },
    {
      "cell_type": "code",
      "metadata": {
        "id": "uvHN8zshebKy"
      },
      "source": [
        "# 針對欄位做scaling\n",
        "from sklearn.preprocessing import StandardScaler\n",
        "df[['temp']] = StandardScaler().fit_transform(df[['temp']]) # scaling 的欄位要是2d dimension，所以多加一個括號\n",
        "df[['humidity']] = StandardScaler().fit_transform(df[['humidity']])"
      ],
      "execution_count": null,
      "outputs": []
    },
    {
      "cell_type": "code",
      "metadata": {
        "id": "fXt6csKZVKVK"
      },
      "source": [
        "# 沒有前一月就塞入當月資料\n",
        "df['premonth_count'] = np.where(df['yearmonth']== '2011-01', df_monthcount['count'].iloc[0], df['premonth_count'])"
      ],
      "execution_count": null,
      "outputs": []
    },
    {
      "cell_type": "code",
      "metadata": {
        "id": "RI39QqXFX0mF"
      },
      "source": [
        "df_train = df[df['count'].notnull()]"
      ],
      "execution_count": null,
      "outputs": []
    },
    {
      "cell_type": "code",
      "metadata": {
        "colab": {
          "base_uri": "https://localhost:8080/"
        },
        "id": "PQLYFwXUD7iu",
        "outputId": "fe466850-9a13-475d-d8a4-5a6660997c6f"
      },
      "source": [
        "df_train.info()"
      ],
      "execution_count": null,
      "outputs": [
        {
          "output_type": "stream",
          "text": [
            "<class 'pandas.core.frame.DataFrame'>\n",
            "Int64Index: 10886 entries, 0 to 10885\n",
            "Data columns (total 19 columns):\n",
            " #   Column          Non-Null Count  Dtype  \n",
            "---  ------          --------------  -----  \n",
            " 0   index           10886 non-null  int64  \n",
            " 1   datetime        10886 non-null  object \n",
            " 2   season          10886 non-null  int64  \n",
            " 3   holiday         10886 non-null  int64  \n",
            " 4   workingday      10886 non-null  int64  \n",
            " 5   weather         10886 non-null  int64  \n",
            " 6   temp            10886 non-null  float64\n",
            " 7   atemp           10886 non-null  float64\n",
            " 8   humidity        10886 non-null  float64\n",
            " 9   windspeed       10886 non-null  float64\n",
            " 10  casual          10886 non-null  float64\n",
            " 11  registered      10886 non-null  float64\n",
            " 12  count           10886 non-null  float64\n",
            " 13  date            10886 non-null  object \n",
            " 14  hour            10886 non-null  object \n",
            " 15  month           10886 non-null  object \n",
            " 16  day             10886 non-null  object \n",
            " 17  yearmonth       10886 non-null  object \n",
            " 18  premonth_count  10886 non-null  float64\n",
            "dtypes: float64(8), int64(5), object(6)\n",
            "memory usage: 1.7+ MB\n"
          ],
          "name": "stdout"
        }
      ]
    },
    {
      "cell_type": "code",
      "metadata": {
        "colab": {
          "base_uri": "https://localhost:8080/",
          "height": 472
        },
        "id": "MphujtsWExU9",
        "outputId": "408af620-8a86-4279-8511-dae1cf19eef1"
      },
      "source": [
        "df_train.corr()"
      ],
      "execution_count": null,
      "outputs": [
        {
          "output_type": "execute_result",
          "data": {
            "text/html": [
              "<div>\n",
              "<style scoped>\n",
              "    .dataframe tbody tr th:only-of-type {\n",
              "        vertical-align: middle;\n",
              "    }\n",
              "\n",
              "    .dataframe tbody tr th {\n",
              "        vertical-align: top;\n",
              "    }\n",
              "\n",
              "    .dataframe thead th {\n",
              "        text-align: right;\n",
              "    }\n",
              "</style>\n",
              "<table border=\"1\" class=\"dataframe\">\n",
              "  <thead>\n",
              "    <tr style=\"text-align: right;\">\n",
              "      <th></th>\n",
              "      <th>index</th>\n",
              "      <th>season</th>\n",
              "      <th>holiday</th>\n",
              "      <th>workingday</th>\n",
              "      <th>weather</th>\n",
              "      <th>temp</th>\n",
              "      <th>atemp</th>\n",
              "      <th>humidity</th>\n",
              "      <th>windspeed</th>\n",
              "      <th>casual</th>\n",
              "      <th>registered</th>\n",
              "      <th>count</th>\n",
              "      <th>premonth_count</th>\n",
              "    </tr>\n",
              "  </thead>\n",
              "  <tbody>\n",
              "    <tr>\n",
              "      <th>index</th>\n",
              "      <td>1.000000</td>\n",
              "      <td>0.479966</td>\n",
              "      <td>0.010675</td>\n",
              "      <td>-0.003490</td>\n",
              "      <td>-0.005197</td>\n",
              "      <td>0.181812</td>\n",
              "      <td>0.182579</td>\n",
              "      <td>0.032505</td>\n",
              "      <td>-0.086245</td>\n",
              "      <td>0.173335</td>\n",
              "      <td>0.315425</td>\n",
              "      <td>0.310810</td>\n",
              "      <td>0.855988</td>\n",
              "    </tr>\n",
              "    <tr>\n",
              "      <th>season</th>\n",
              "      <td>0.479966</td>\n",
              "      <td>1.000000</td>\n",
              "      <td>0.029368</td>\n",
              "      <td>-0.008126</td>\n",
              "      <td>0.008879</td>\n",
              "      <td>0.258689</td>\n",
              "      <td>0.264744</td>\n",
              "      <td>0.190610</td>\n",
              "      <td>-0.147121</td>\n",
              "      <td>0.096758</td>\n",
              "      <td>0.164011</td>\n",
              "      <td>0.163439</td>\n",
              "      <td>0.619106</td>\n",
              "    </tr>\n",
              "    <tr>\n",
              "      <th>holiday</th>\n",
              "      <td>0.010675</td>\n",
              "      <td>0.029368</td>\n",
              "      <td>1.000000</td>\n",
              "      <td>-0.250491</td>\n",
              "      <td>-0.007074</td>\n",
              "      <td>0.000295</td>\n",
              "      <td>-0.005215</td>\n",
              "      <td>0.001929</td>\n",
              "      <td>0.008409</td>\n",
              "      <td>0.043799</td>\n",
              "      <td>-0.020956</td>\n",
              "      <td>-0.005393</td>\n",
              "      <td>0.016489</td>\n",
              "    </tr>\n",
              "    <tr>\n",
              "      <th>workingday</th>\n",
              "      <td>-0.003490</td>\n",
              "      <td>-0.008126</td>\n",
              "      <td>-0.250491</td>\n",
              "      <td>1.000000</td>\n",
              "      <td>0.033772</td>\n",
              "      <td>0.029966</td>\n",
              "      <td>0.024660</td>\n",
              "      <td>-0.010880</td>\n",
              "      <td>0.013373</td>\n",
              "      <td>-0.319111</td>\n",
              "      <td>0.119460</td>\n",
              "      <td>0.011594</td>\n",
              "      <td>0.002494</td>\n",
              "    </tr>\n",
              "    <tr>\n",
              "      <th>weather</th>\n",
              "      <td>-0.005197</td>\n",
              "      <td>0.008879</td>\n",
              "      <td>-0.007074</td>\n",
              "      <td>0.033772</td>\n",
              "      <td>1.000000</td>\n",
              "      <td>-0.055035</td>\n",
              "      <td>-0.055376</td>\n",
              "      <td>0.406244</td>\n",
              "      <td>0.007261</td>\n",
              "      <td>-0.135918</td>\n",
              "      <td>-0.109340</td>\n",
              "      <td>-0.128655</td>\n",
              "      <td>-0.036706</td>\n",
              "    </tr>\n",
              "    <tr>\n",
              "      <th>temp</th>\n",
              "      <td>0.181812</td>\n",
              "      <td>0.258689</td>\n",
              "      <td>0.000295</td>\n",
              "      <td>0.029966</td>\n",
              "      <td>-0.055035</td>\n",
              "      <td>1.000000</td>\n",
              "      <td>0.984948</td>\n",
              "      <td>-0.064949</td>\n",
              "      <td>-0.017852</td>\n",
              "      <td>0.467097</td>\n",
              "      <td>0.318571</td>\n",
              "      <td>0.394454</td>\n",
              "      <td>0.537249</td>\n",
              "    </tr>\n",
              "    <tr>\n",
              "      <th>atemp</th>\n",
              "      <td>0.182579</td>\n",
              "      <td>0.264744</td>\n",
              "      <td>-0.005215</td>\n",
              "      <td>0.024660</td>\n",
              "      <td>-0.055376</td>\n",
              "      <td>0.984948</td>\n",
              "      <td>1.000000</td>\n",
              "      <td>-0.043536</td>\n",
              "      <td>-0.057473</td>\n",
              "      <td>0.462067</td>\n",
              "      <td>0.314635</td>\n",
              "      <td>0.389784</td>\n",
              "      <td>0.530540</td>\n",
              "    </tr>\n",
              "    <tr>\n",
              "      <th>humidity</th>\n",
              "      <td>0.032505</td>\n",
              "      <td>0.190610</td>\n",
              "      <td>0.001929</td>\n",
              "      <td>-0.010880</td>\n",
              "      <td>0.406244</td>\n",
              "      <td>-0.064949</td>\n",
              "      <td>-0.043536</td>\n",
              "      <td>1.000000</td>\n",
              "      <td>-0.318607</td>\n",
              "      <td>-0.348187</td>\n",
              "      <td>-0.265458</td>\n",
              "      <td>-0.317371</td>\n",
              "      <td>0.059672</td>\n",
              "    </tr>\n",
              "    <tr>\n",
              "      <th>windspeed</th>\n",
              "      <td>-0.086245</td>\n",
              "      <td>-0.147121</td>\n",
              "      <td>0.008409</td>\n",
              "      <td>0.013373</td>\n",
              "      <td>0.007261</td>\n",
              "      <td>-0.017852</td>\n",
              "      <td>-0.057473</td>\n",
              "      <td>-0.318607</td>\n",
              "      <td>1.000000</td>\n",
              "      <td>0.092276</td>\n",
              "      <td>0.091052</td>\n",
              "      <td>0.101369</td>\n",
              "      <td>-0.124205</td>\n",
              "    </tr>\n",
              "    <tr>\n",
              "      <th>casual</th>\n",
              "      <td>0.173335</td>\n",
              "      <td>0.096758</td>\n",
              "      <td>0.043799</td>\n",
              "      <td>-0.319111</td>\n",
              "      <td>-0.135918</td>\n",
              "      <td>0.467097</td>\n",
              "      <td>0.462067</td>\n",
              "      <td>-0.348187</td>\n",
              "      <td>0.092276</td>\n",
              "      <td>1.000000</td>\n",
              "      <td>0.497250</td>\n",
              "      <td>0.690414</td>\n",
              "      <td>0.280231</td>\n",
              "    </tr>\n",
              "    <tr>\n",
              "      <th>registered</th>\n",
              "      <td>0.315425</td>\n",
              "      <td>0.164011</td>\n",
              "      <td>-0.020956</td>\n",
              "      <td>0.119460</td>\n",
              "      <td>-0.109340</td>\n",
              "      <td>0.318571</td>\n",
              "      <td>0.314635</td>\n",
              "      <td>-0.265458</td>\n",
              "      <td>0.091052</td>\n",
              "      <td>0.497250</td>\n",
              "      <td>1.000000</td>\n",
              "      <td>0.970948</td>\n",
              "      <td>0.335832</td>\n",
              "    </tr>\n",
              "    <tr>\n",
              "      <th>count</th>\n",
              "      <td>0.310810</td>\n",
              "      <td>0.163439</td>\n",
              "      <td>-0.005393</td>\n",
              "      <td>0.011594</td>\n",
              "      <td>-0.128655</td>\n",
              "      <td>0.394454</td>\n",
              "      <td>0.389784</td>\n",
              "      <td>-0.317371</td>\n",
              "      <td>0.101369</td>\n",
              "      <td>0.690414</td>\n",
              "      <td>0.970948</td>\n",
              "      <td>1.000000</td>\n",
              "      <td>0.357307</td>\n",
              "    </tr>\n",
              "    <tr>\n",
              "      <th>premonth_count</th>\n",
              "      <td>0.855988</td>\n",
              "      <td>0.619106</td>\n",
              "      <td>0.016489</td>\n",
              "      <td>0.002494</td>\n",
              "      <td>-0.036706</td>\n",
              "      <td>0.537249</td>\n",
              "      <td>0.530540</td>\n",
              "      <td>0.059672</td>\n",
              "      <td>-0.124205</td>\n",
              "      <td>0.280231</td>\n",
              "      <td>0.335832</td>\n",
              "      <td>0.357307</td>\n",
              "      <td>1.000000</td>\n",
              "    </tr>\n",
              "  </tbody>\n",
              "</table>\n",
              "</div>"
            ],
            "text/plain": [
              "                   index    season  ...     count  premonth_count\n",
              "index           1.000000  0.479966  ...  0.310810        0.855988\n",
              "season          0.479966  1.000000  ...  0.163439        0.619106\n",
              "holiday         0.010675  0.029368  ... -0.005393        0.016489\n",
              "workingday     -0.003490 -0.008126  ...  0.011594        0.002494\n",
              "weather        -0.005197  0.008879  ... -0.128655       -0.036706\n",
              "temp            0.181812  0.258689  ...  0.394454        0.537249\n",
              "atemp           0.182579  0.264744  ...  0.389784        0.530540\n",
              "humidity        0.032505  0.190610  ... -0.317371        0.059672\n",
              "windspeed      -0.086245 -0.147121  ...  0.101369       -0.124205\n",
              "casual          0.173335  0.096758  ...  0.690414        0.280231\n",
              "registered      0.315425  0.164011  ...  0.970948        0.335832\n",
              "count           0.310810  0.163439  ...  1.000000        0.357307\n",
              "premonth_count  0.855988  0.619106  ...  0.357307        1.000000\n",
              "\n",
              "[13 rows x 13 columns]"
            ]
          },
          "metadata": {
            "tags": []
          },
          "execution_count": 12
        }
      ]
    },
    {
      "cell_type": "code",
      "metadata": {
        "colab": {
          "base_uri": "https://localhost:8080/",
          "height": 279
        },
        "id": "4wMkpem1E91-",
        "outputId": "3021da1e-8acb-4d39-8334-8bdded168d40"
      },
      "source": [
        "from numpy import mean\n",
        "ax = sns.barplot(x='hour', y='count', estimator=mean, data = df_train)"
      ],
      "execution_count": null,
      "outputs": [
        {
          "output_type": "display_data",
          "data": {
            "image/png": "[encoded data removed]",
            "text/plain": [
              "<Figure size 432x288 with 1 Axes>"
            ]
          },
          "metadata": {
            "tags": [],
            "needs_background": "light"
          }
        }
      ]
    },
    {
      "cell_type": "code",
      "metadata": {
        "id": "rzGQm_fEQUoT"
      },
      "source": [
        "# plt.figure(figsize=(200,100))\n",
        "# ax = sns.lineplot(x='date', y='count', estimator=mean, data = df)"
      ],
      "execution_count": null,
      "outputs": []
    },
    {
      "cell_type": "code",
      "metadata": {
        "id": "lxkeawpYFc_E"
      },
      "source": [
        "from sklearn import linear_model\n",
        "from sklearn.feature_selection import f_regression\n",
        "from sklearn.model_selection import train_test_split\n",
        "from sklearn.metrics import mean_squared_log_error\n",
        "\n",
        "# 保留需要用的欄位\n",
        "columns = ['temp', 'humidity', 'hour', 'count'] # 用list管理使用的features\n",
        "df_train_copy = df_train[columns]\n",
        "\n",
        "# 創造 dummy variables\n",
        "df_train_copy = pd.get_dummies(df_train_copy)\n",
        "\n",
        "# 區分測試資料跟訓練資料\n",
        "train, test = train_test_split(df_train_copy, test_size=0.1, random_state=42)\n",
        "X_train = train.drop(columns=['count'])\n",
        "Y_train = train['count']"
      ],
      "execution_count": null,
      "outputs": []
    },
    {
      "cell_type": "code",
      "metadata": {
        "colab": {
          "base_uri": "https://localhost:8080/"
        },
        "id": "8rG1ZBx0KfFF",
        "outputId": "a8eb123b-53a6-4cd8-9b27-e6a65adafb08"
      },
      "source": [
        "# 建立模型(linear regression)\n",
        "from sklearn.linear_model import Lasso\n",
        "\n",
        "Lasso = Lasso(alpha=1.0, fit_intercept=False, normalize=False,\n",
        "                 precompute=False, copy_X=True, max_iter=1000,\n",
        "                 tol=1e-4, warm_start=False, positive=True,\n",
        "                 random_state=None, selection='cyclic')\n",
        "Lasso.fit(X_train, Y_train)\n",
        "\n",
        "# 印出係數\n",
        "print(\"Model slope:\", Lasso.coef_)\n",
        "\n",
        "# 印出截距\n",
        "print(\"Model intercept:\", Lasso.intercept_)"
      ],
      "execution_count": null,
      "outputs": [
        {
          "output_type": "stream",
          "text": [
            "Model slope: [ 51.24457685   0.          40.08625943  20.13148101  10.99491103\n",
            "   0.           0.          13.30028129  70.67028947 204.58871788\n",
            " 349.95300533 204.82718639 150.62919041 178.79813621 219.41314255\n",
            " 219.24382449 202.99978018 209.54522382 276.20983822 428.58191448\n",
            " 395.480952   284.32204676 202.34699515 149.49738447 113.87548225\n",
            "  73.49791872]\n",
            "Model intercept: 0.0\n"
          ],
          "name": "stdout"
        }
      ]
    },
    {
      "cell_type": "code",
      "metadata": {
        "id": "k4hNzkgnK9wO"
      },
      "source": [
        "# 用測試資料計算準確率\n",
        "X_test = test.drop(columns=['count'])\n",
        "Y_test = test['count'].to_frame()\n",
        "count_predictions = Lasso.predict(X_test)\n",
        "# MSLE = mean_squared_log_error(Y_test, count_predictions)"
      ],
      "execution_count": null,
      "outputs": []
    },
    {
      "cell_type": "code",
      "metadata": {
        "id": "qtYnyYFmLFZR"
      },
      "source": [
        "df_test = df[df['count'].isnull()]\n",
        "df_test_x = df_test[['temp', 'humidity', 'hour']]\n",
        "\n",
        "df_test_x = pd.get_dummies(df_test_x)\n",
        "\n",
        "# 套入模型進行預測\n",
        "count_predictions = Lasso.predict(df_test_x)\n",
        "df_sumission = df_test['datetime'].to_frame()\n",
        "df_sumission['count'] = count_predictions"
      ],
      "execution_count": null,
      "outputs": []
    },
    {
      "cell_type": "code",
      "metadata": {
        "id": "egm7Fqo2PF4y"
      },
      "source": [
        "# df_sumission.to_csv('Bike_share_prediction/answer_v1.csv', index = False)"
      ],
      "execution_count": null,
      "outputs": []
    },
    {
      "cell_type": "code",
      "metadata": {
        "colab": {
          "base_uri": "https://localhost:8080/"
        },
        "id": "440ofq54SNdJ",
        "outputId": "80ad968d-9e53-4691-ecdc-a5d503541f6b"
      },
      "source": [
        "# 建立模型(exponential regression)\n",
        "from sklearn.linear_model import LinearRegression\n",
        "\n",
        "# 取Log解決預測結果會有負值問題\n",
        "Y_train_log = np.log(Y_train['count']).to_frame() \n",
        "\n",
        "model = LinearRegression(fit_intercept=True)\n",
        "model.fit(X_train, Y_train_log)\n",
        "\n",
        "# 印出係數\n",
        "print(\"Model slope:\", model.coef_)\n",
        "\n",
        "# 印出截距\n",
        "print(\"Model intercept:\", model.intercept_)"
      ],
      "execution_count": null,
      "outputs": [
        {
          "output_type": "stream",
          "text": [
            "Model slope: [[ 0.36603089 -0.08512177 -0.75128243 -1.42135635 -1.92993491 -2.48176696\n",
            "  -2.76955221 -1.68981661 -0.45947183  0.51027479  1.14893282  0.79961295\n",
            "   0.43609459  0.52650187  0.70257136  0.663918    0.57623235  0.59741427\n",
            "   0.88350148  1.2898056   1.22650469  0.96746443  0.68355043  0.45337301\n",
            "   0.21604092 -0.17861227]]\n",
            "Model intercept: [4.54216805]\n"
          ],
          "name": "stdout"
        }
      ]
    },
    {
      "cell_type": "code",
      "metadata": {
        "colab": {
          "base_uri": "https://localhost:8080/"
        },
        "id": "oL6omE8hTuXB",
        "outputId": "d122bf8b-480f-4865-8112-6a296f0168f3"
      },
      "source": [
        "# 用測試資料計算準確率\n",
        "X_test = test.drop(columns=['count'])\n",
        "Y_test = test['count'].to_frame()\n",
        "count_predictions = np.exp(model.predict(X_test))\n",
        "MSLE = mean_squared_log_error(Y_test, count_predictions)\n",
        "print('MSLE = ', MSLE)"
      ],
      "execution_count": null,
      "outputs": [
        {
          "output_type": "stream",
          "text": [
            "MSLE =  0.45434385119457776\n"
          ],
          "name": "stdout"
        }
      ]
    },
    {
      "cell_type": "code",
      "metadata": {
        "id": "alR30TxkT-cL",
        "colab": {
          "base_uri": "https://localhost:8080/"
        },
        "outputId": "f671b98c-e5f8-49cc-97b0-7b3c29021fc2"
      },
      "source": [
        "# 用所有測試資料建模\n",
        "train = pd.concat([train, test])\n",
        "\n",
        "X_train = train.drop(columns=['count'])\n",
        "Y_train = train['count'].to_frame()\n",
        "\n",
        "# 取Log解決預測結果會有負值問題\n",
        "Y_train_log = np.log(Y_train['count']).to_frame() \n",
        "\n",
        "model = LinearRegression(fit_intercept=True)\n",
        "model.fit(X_train, Y_train_log)\n",
        "\n",
        "# 印出係數\n",
        "print(\"Model slope:\", model.coef_)\n",
        "\n",
        "# 印出截距\n",
        "print(\"Model intercept:\", model.intercept_)"
      ],
      "execution_count": null,
      "outputs": [
        {
          "output_type": "stream",
          "text": [
            "Model slope: [[ 0.36906953 -0.08492953 -0.75518124 -1.40465317 -1.94054099 -2.47165531\n",
            "  -2.77755077 -1.68877404 -0.46595952  0.51874705  1.14293481  0.79331495\n",
            "   0.44014407  0.54155057  0.70446405  0.66299825  0.56085259  0.60839924\n",
            "   0.87693666  1.29202225  1.22457624  0.96786255  0.68567479  0.44922573\n",
            "   0.21661508 -0.18200386]]\n",
            "Model intercept: [4.54479103]\n"
          ],
          "name": "stdout"
        }
      ]
    },
    {
      "cell_type": "code",
      "metadata": {
        "id": "1pzeS2Zbkj6Z"
      },
      "source": [
        "df_test_x = df_test[['temp', 'humidity', 'hour']]\n",
        "df_test_x = pd.get_dummies(df_test_x)"
      ],
      "execution_count": null,
      "outputs": []
    },
    {
      "cell_type": "code",
      "metadata": {
        "id": "K4lFNvGqk_FQ"
      },
      "source": [
        "# 套入模型進行預測\n",
        "count_predictions = np.exp(model.predict(df_test_x))\n",
        "df_sumission = df_test['datetime'].to_frame()\n",
        "df_sumission['count'] = count_predictions"
      ],
      "execution_count": null,
      "outputs": []
    },
    {
      "cell_type": "code",
      "metadata": {
        "id": "zH3fYzw4VOPJ"
      },
      "source": [
        "# df_sumission.to_csv('Bike_share_prediction/answer_v5.csv', index = False)"
      ],
      "execution_count": null,
      "outputs": []
    },
    {
      "cell_type": "code",
      "metadata": {
        "colab": {
          "base_uri": "https://localhost:8080/"
        },
        "id": "XXJZtbnwaSza",
        "outputId": "2b21a674-2e77-4d76-d2f4-80a2feeace4f"
      },
      "source": [
        "# 建立模型(time series + exponential regression)\n",
        "from sklearn.linear_model import LinearRegression\n",
        "\n",
        "# 區分測試資料跟訓練資料（前15天當訓練，16-19號當測試）\n",
        "train =  df_train[(df_train['day'] != '16') & (df_train['day'] != '17') & (df_train['day'] != '18') & (df_train['day'] != '19')]\n",
        "test =  df_train[(df_train['day'] == '16') | (df_train['day'] == '17') | (df_train['day'] == '18') | (df_train['day'] == '19')]\n",
        "\n",
        "# 保留需要用的欄位\n",
        "train = train[['temp', 'humidity', 'hour', 'count', 'premonth_count']]\n",
        "test = test[['temp', 'humidity', 'hour', 'count', 'premonth_count']]\n",
        "\n",
        "# 創造 dummy variables\n",
        "train = pd.get_dummies(train)\n",
        "test = pd.get_dummies(test)\n",
        "\n",
        "# 區分測試資料跟訓練資料\n",
        "X_train = train.drop(columns=['count'])\n",
        "Y_train = train['count'].to_frame()\n",
        "\n",
        "# 取Log解決預測結果會有負值問題\n",
        "Y_train_log = np.log(Y_train['count']).to_frame() \n",
        "\n",
        "model = LinearRegression(fit_intercept=True)\n",
        "model.fit(X_train, Y_train_log)\n",
        "\n",
        "# 印出係數\n",
        "print(\"Model slope:\", model.coef_)\n",
        "\n",
        "# 印出截距\n",
        "print(\"Model intercept:\", model.intercept_)"
      ],
      "execution_count": null,
      "outputs": [
        {
          "output_type": "stream",
          "text": [
            "Model slope: [[ 0.15332712 -0.09689428  0.00497738 -0.78997269 -1.44223042 -2.01994585\n",
            "  -2.52073908 -2.84198741 -1.7514149  -0.53170005  0.46147798  1.1041027\n",
            "   0.77674634  0.4406268   0.56237641  0.76201103  0.72951927  0.63694158\n",
            "   0.68497545  0.9494284   1.35689924  1.27104292  0.99365188  0.69582363\n",
            "   0.45539603  0.20763851 -0.19066776]]\n",
            "Model intercept: [3.61009411]\n"
          ],
          "name": "stdout"
        }
      ]
    },
    {
      "cell_type": "code",
      "metadata": {
        "colab": {
          "base_uri": "https://localhost:8080/"
        },
        "id": "b0kVeEsVgG5l",
        "outputId": "8c972cb4-3689-47d8-cac3-369b46a77a31"
      },
      "source": [
        "# 用測試資料計算準確率\n",
        "X_test = test.drop(columns=['count'])\n",
        "Y_test = test['count'].to_frame()\n",
        "count_predictions = np.exp(model.predict(X_test))\n",
        "MSLE = mean_squared_log_error(Y_test, count_predictions)\n",
        "print('MSLE = ', MSLE)"
      ],
      "execution_count": null,
      "outputs": [
        {
          "output_type": "stream",
          "text": [
            "MSLE =  0.3669577777511821\n"
          ],
          "name": "stdout"
        }
      ]
    },
    {
      "cell_type": "code",
      "metadata": {
        "colab": {
          "base_uri": "https://localhost:8080/"
        },
        "id": "IZfo0_pUiD71",
        "outputId": "2bbf0ac2-77c6-44e7-a1b0-4d7d820df29f"
      },
      "source": [
        "# 用所有測試資料建模\n",
        "train = pd.concat([train, test])\n",
        "\n",
        "# 區分測試資料跟訓練資料\n",
        "X_train = train.drop(columns=['count'])\n",
        "Y_train = train['count'].to_frame()\n",
        "\n",
        "# 取Log解決預測結果會有負值問題\n",
        "Y_train_log = np.log(Y_train['count']).to_frame() \n",
        "\n",
        "model = LinearRegression(fit_intercept=True)\n",
        "model.fit(X_train, Y_train_log)\n",
        "\n",
        "# 印出係數\n",
        "print(\"Model slope:\", model.coef_)\n",
        "\n",
        "# 印出截距\n",
        "print(\"Model intercept:\", model.intercept_)"
      ],
      "execution_count": null,
      "outputs": [
        {
          "output_type": "stream",
          "text": [
            "Model slope: [[ 0.16416586 -0.09739279  0.00476458 -0.78129295 -1.43950937 -1.9862205\n",
            "  -2.53045948 -2.84115522 -1.75176893 -0.52804848  0.46354942  1.10346233\n",
            "   0.77449181  0.4432752   0.56627895  0.74746151  0.72204551  0.63066546\n",
            "   0.68151712  0.94608634  1.35036555  1.27017017  0.99662416  0.70035405\n",
            "   0.45207019  0.20913997 -0.19910278]]\n",
            "Model intercept: [3.65964317]\n"
          ],
          "name": "stdout"
        }
      ]
    },
    {
      "cell_type": "code",
      "metadata": {
        "id": "6NhCgaLTgKQj"
      },
      "source": [
        "df_test_x = df_test[['temp', 'humidity', 'hour', 'premonth_count']]\n",
        "\n",
        "df_test_x = pd.get_dummies(df_test_x)\n",
        "\n",
        "# 套入模型進行預測\n",
        "count_predictions = np.exp(model.predict(df_test_x))\n",
        "df_sumission = df_test['datetime'].to_frame()\n",
        "df_sumission['count'] = count_predictions"
      ],
      "execution_count": null,
      "outputs": []
    },
    {
      "cell_type": "code",
      "metadata": {
        "id": "yR4DpbqlgfoP"
      },
      "source": [
        "# df_sumission.to_csv('Bike_share_prediction/answer_v9.csv', index = False)"
      ],
      "execution_count": null,
      "outputs": []
    },
    {
      "cell_type": "code",
      "metadata": {
        "colab": {
          "base_uri": "https://localhost:8080/",
          "height": 224
        },
        "id": "yOjZTw11AX_w",
        "outputId": "4d0c1c59-b91f-40ef-cc8c-1bd2e97554bf"
      },
      "source": [
        "###########以下為資料探勘###########\n",
        "\n",
        "test.head()"
      ],
      "execution_count": null,
      "outputs": [
        {
          "output_type": "execute_result",
          "data": {
            "text/html": [
              "<div>\n",
              "<style scoped>\n",
              "    .dataframe tbody tr th:only-of-type {\n",
              "        vertical-align: middle;\n",
              "    }\n",
              "\n",
              "    .dataframe tbody tr th {\n",
              "        vertical-align: top;\n",
              "    }\n",
              "\n",
              "    .dataframe thead th {\n",
              "        text-align: right;\n",
              "    }\n",
              "</style>\n",
              "<table border=\"1\" class=\"dataframe\">\n",
              "  <thead>\n",
              "    <tr style=\"text-align: right;\">\n",
              "      <th></th>\n",
              "      <th>temp</th>\n",
              "      <th>humidity</th>\n",
              "      <th>count</th>\n",
              "      <th>premonth_count</th>\n",
              "      <th>hour_00:00:00</th>\n",
              "      <th>hour_01:00:00</th>\n",
              "      <th>hour_02:00:00</th>\n",
              "      <th>hour_03:00:00</th>\n",
              "      <th>hour_04:00:00</th>\n",
              "      <th>hour_05:00:00</th>\n",
              "      <th>hour_06:00:00</th>\n",
              "      <th>hour_07:00:00</th>\n",
              "      <th>hour_08:00:00</th>\n",
              "      <th>hour_09:00:00</th>\n",
              "      <th>hour_10:00:00</th>\n",
              "      <th>hour_11:00:00</th>\n",
              "      <th>hour_12:00:00</th>\n",
              "      <th>hour_13:00:00</th>\n",
              "      <th>hour_14:00:00</th>\n",
              "      <th>hour_15:00:00</th>\n",
              "      <th>hour_16:00:00</th>\n",
              "      <th>hour_17:00:00</th>\n",
              "      <th>hour_18:00:00</th>\n",
              "      <th>hour_19:00:00</th>\n",
              "      <th>hour_20:00:00</th>\n",
              "      <th>hour_21:00:00</th>\n",
              "      <th>hour_22:00:00</th>\n",
              "      <th>hour_23:00:00</th>\n",
              "    </tr>\n",
              "  </thead>\n",
              "  <tbody>\n",
              "    <tr>\n",
              "      <th>348</th>\n",
              "      <td>-1.230779</td>\n",
              "      <td>-0.348473</td>\n",
              "      <td>39.0</td>\n",
              "      <td>54.645012</td>\n",
              "      <td>1</td>\n",
              "      <td>0</td>\n",
              "      <td>0</td>\n",
              "      <td>0</td>\n",
              "      <td>0</td>\n",
              "      <td>0</td>\n",
              "      <td>0</td>\n",
              "      <td>0</td>\n",
              "      <td>0</td>\n",
              "      <td>0</td>\n",
              "      <td>0</td>\n",
              "      <td>0</td>\n",
              "      <td>0</td>\n",
              "      <td>0</td>\n",
              "      <td>0</td>\n",
              "      <td>0</td>\n",
              "      <td>0</td>\n",
              "      <td>0</td>\n",
              "      <td>0</td>\n",
              "      <td>0</td>\n",
              "      <td>0</td>\n",
              "      <td>0</td>\n",
              "      <td>0</td>\n",
              "      <td>0</td>\n",
              "    </tr>\n",
              "    <tr>\n",
              "      <th>349</th>\n",
              "      <td>-1.230779</td>\n",
              "      <td>-0.348473</td>\n",
              "      <td>23.0</td>\n",
              "      <td>54.645012</td>\n",
              "      <td>0</td>\n",
              "      <td>1</td>\n",
              "      <td>0</td>\n",
              "      <td>0</td>\n",
              "      <td>0</td>\n",
              "      <td>0</td>\n",
              "      <td>0</td>\n",
              "      <td>0</td>\n",
              "      <td>0</td>\n",
              "      <td>0</td>\n",
              "      <td>0</td>\n",
              "      <td>0</td>\n",
              "      <td>0</td>\n",
              "      <td>0</td>\n",
              "      <td>0</td>\n",
              "      <td>0</td>\n",
              "      <td>0</td>\n",
              "      <td>0</td>\n",
              "      <td>0</td>\n",
              "      <td>0</td>\n",
              "      <td>0</td>\n",
              "      <td>0</td>\n",
              "      <td>0</td>\n",
              "      <td>0</td>\n",
              "    </tr>\n",
              "    <tr>\n",
              "      <th>350</th>\n",
              "      <td>-1.230779</td>\n",
              "      <td>-0.348473</td>\n",
              "      <td>16.0</td>\n",
              "      <td>54.645012</td>\n",
              "      <td>0</td>\n",
              "      <td>0</td>\n",
              "      <td>1</td>\n",
              "      <td>0</td>\n",
              "      <td>0</td>\n",
              "      <td>0</td>\n",
              "      <td>0</td>\n",
              "      <td>0</td>\n",
              "      <td>0</td>\n",
              "      <td>0</td>\n",
              "      <td>0</td>\n",
              "      <td>0</td>\n",
              "      <td>0</td>\n",
              "      <td>0</td>\n",
              "      <td>0</td>\n",
              "      <td>0</td>\n",
              "      <td>0</td>\n",
              "      <td>0</td>\n",
              "      <td>0</td>\n",
              "      <td>0</td>\n",
              "      <td>0</td>\n",
              "      <td>0</td>\n",
              "      <td>0</td>\n",
              "      <td>0</td>\n",
              "    </tr>\n",
              "    <tr>\n",
              "      <th>351</th>\n",
              "      <td>-1.438516</td>\n",
              "      <td>0.325367</td>\n",
              "      <td>15.0</td>\n",
              "      <td>54.645012</td>\n",
              "      <td>0</td>\n",
              "      <td>0</td>\n",
              "      <td>0</td>\n",
              "      <td>1</td>\n",
              "      <td>0</td>\n",
              "      <td>0</td>\n",
              "      <td>0</td>\n",
              "      <td>0</td>\n",
              "      <td>0</td>\n",
              "      <td>0</td>\n",
              "      <td>0</td>\n",
              "      <td>0</td>\n",
              "      <td>0</td>\n",
              "      <td>0</td>\n",
              "      <td>0</td>\n",
              "      <td>0</td>\n",
              "      <td>0</td>\n",
              "      <td>0</td>\n",
              "      <td>0</td>\n",
              "      <td>0</td>\n",
              "      <td>0</td>\n",
              "      <td>0</td>\n",
              "      <td>0</td>\n",
              "      <td>0</td>\n",
              "    </tr>\n",
              "    <tr>\n",
              "      <th>352</th>\n",
              "      <td>-1.230779</td>\n",
              "      <td>-0.348473</td>\n",
              "      <td>1.0</td>\n",
              "      <td>54.645012</td>\n",
              "      <td>0</td>\n",
              "      <td>0</td>\n",
              "      <td>0</td>\n",
              "      <td>0</td>\n",
              "      <td>1</td>\n",
              "      <td>0</td>\n",
              "      <td>0</td>\n",
              "      <td>0</td>\n",
              "      <td>0</td>\n",
              "      <td>0</td>\n",
              "      <td>0</td>\n",
              "      <td>0</td>\n",
              "      <td>0</td>\n",
              "      <td>0</td>\n",
              "      <td>0</td>\n",
              "      <td>0</td>\n",
              "      <td>0</td>\n",
              "      <td>0</td>\n",
              "      <td>0</td>\n",
              "      <td>0</td>\n",
              "      <td>0</td>\n",
              "      <td>0</td>\n",
              "      <td>0</td>\n",
              "      <td>0</td>\n",
              "    </tr>\n",
              "  </tbody>\n",
              "</table>\n",
              "</div>"
            ],
            "text/plain": [
              "         temp  humidity  count  ...  hour_21:00:00  hour_22:00:00  hour_23:00:00\n",
              "348 -1.230779 -0.348473   39.0  ...              0              0              0\n",
              "349 -1.230779 -0.348473   23.0  ...              0              0              0\n",
              "350 -1.230779 -0.348473   16.0  ...              0              0              0\n",
              "351 -1.438516  0.325367   15.0  ...              0              0              0\n",
              "352 -1.230779 -0.348473    1.0  ...              0              0              0\n",
              "\n",
              "[5 rows x 28 columns]"
            ]
          },
          "metadata": {
            "tags": []
          },
          "execution_count": 158
        }
      ]
    },
    {
      "cell_type": "code",
      "metadata": {
        "colab": {
          "base_uri": "https://localhost:8080/",
          "height": 311
        },
        "id": "rZDk3puLA8iE",
        "outputId": "180fb6e6-baf8-4aed-c19b-dd33d374dc1a"
      },
      "source": [
        "test.groupby('time').count()"
      ],
      "execution_count": null,
      "outputs": [
        {
          "output_type": "error",
          "ename": "KeyError",
          "evalue": "ignored",
          "traceback": [
            "\u001b[0;31m---------------------------------------------------------------------------\u001b[0m",
            "\u001b[0;31mKeyError\u001b[0m                                  Traceback (most recent call last)",
            "\u001b[0;32m<ipython-input-159-1c54dc3f98e6>\u001b[0m in \u001b[0;36m<module>\u001b[0;34m()\u001b[0m\n\u001b[0;32m----> 1\u001b[0;31m \u001b[0mtest\u001b[0m\u001b[0;34m.\u001b[0m\u001b[0mgroupby\u001b[0m\u001b[0;34m(\u001b[0m\u001b[0;34m'time'\u001b[0m\u001b[0;34m)\u001b[0m\u001b[0;34m.\u001b[0m\u001b[0mcount\u001b[0m\u001b[0;34m(\u001b[0m\u001b[0;34m)\u001b[0m\u001b[0;34m\u001b[0m\u001b[0;34m\u001b[0m\u001b[0m\n\u001b[0m",
            "\u001b[0;32m/usr/local/lib/python3.6/dist-packages/pandas/core/frame.py\u001b[0m in \u001b[0;36mgroupby\u001b[0;34m(self, by, axis, level, as_index, sort, group_keys, squeeze, observed, dropna)\u001b[0m\n\u001b[1;32m   6523\u001b[0m             \u001b[0msqueeze\u001b[0m\u001b[0;34m=\u001b[0m\u001b[0msqueeze\u001b[0m\u001b[0;34m,\u001b[0m\u001b[0;34m\u001b[0m\u001b[0;34m\u001b[0m\u001b[0m\n\u001b[1;32m   6524\u001b[0m             \u001b[0mobserved\u001b[0m\u001b[0;34m=\u001b[0m\u001b[0mobserved\u001b[0m\u001b[0;34m,\u001b[0m\u001b[0;34m\u001b[0m\u001b[0;34m\u001b[0m\u001b[0m\n\u001b[0;32m-> 6525\u001b[0;31m             \u001b[0mdropna\u001b[0m\u001b[0;34m=\u001b[0m\u001b[0mdropna\u001b[0m\u001b[0;34m,\u001b[0m\u001b[0;34m\u001b[0m\u001b[0;34m\u001b[0m\u001b[0m\n\u001b[0m\u001b[1;32m   6526\u001b[0m         )\n\u001b[1;32m   6527\u001b[0m \u001b[0;34m\u001b[0m\u001b[0m\n",
            "\u001b[0;32m/usr/local/lib/python3.6/dist-packages/pandas/core/groupby/groupby.py\u001b[0m in \u001b[0;36m__init__\u001b[0;34m(self, obj, keys, axis, level, grouper, exclusions, selection, as_index, sort, group_keys, squeeze, observed, mutated, dropna)\u001b[0m\n\u001b[1;32m    531\u001b[0m                 \u001b[0mobserved\u001b[0m\u001b[0;34m=\u001b[0m\u001b[0mobserved\u001b[0m\u001b[0;34m,\u001b[0m\u001b[0;34m\u001b[0m\u001b[0;34m\u001b[0m\u001b[0m\n\u001b[1;32m    532\u001b[0m                 \u001b[0mmutated\u001b[0m\u001b[0;34m=\u001b[0m\u001b[0mself\u001b[0m\u001b[0;34m.\u001b[0m\u001b[0mmutated\u001b[0m\u001b[0;34m,\u001b[0m\u001b[0;34m\u001b[0m\u001b[0;34m\u001b[0m\u001b[0m\n\u001b[0;32m--> 533\u001b[0;31m                 \u001b[0mdropna\u001b[0m\u001b[0;34m=\u001b[0m\u001b[0mself\u001b[0m\u001b[0;34m.\u001b[0m\u001b[0mdropna\u001b[0m\u001b[0;34m,\u001b[0m\u001b[0;34m\u001b[0m\u001b[0;34m\u001b[0m\u001b[0m\n\u001b[0m\u001b[1;32m    534\u001b[0m             )\n\u001b[1;32m    535\u001b[0m \u001b[0;34m\u001b[0m\u001b[0m\n",
            "\u001b[0;32m/usr/local/lib/python3.6/dist-packages/pandas/core/groupby/grouper.py\u001b[0m in \u001b[0;36mget_grouper\u001b[0;34m(obj, key, axis, level, sort, observed, mutated, validate, dropna)\u001b[0m\n\u001b[1;32m    784\u001b[0m                 \u001b[0min_axis\u001b[0m\u001b[0;34m,\u001b[0m \u001b[0mname\u001b[0m\u001b[0;34m,\u001b[0m \u001b[0mlevel\u001b[0m\u001b[0;34m,\u001b[0m \u001b[0mgpr\u001b[0m \u001b[0;34m=\u001b[0m \u001b[0;32mFalse\u001b[0m\u001b[0;34m,\u001b[0m \u001b[0;32mNone\u001b[0m\u001b[0;34m,\u001b[0m \u001b[0mgpr\u001b[0m\u001b[0;34m,\u001b[0m \u001b[0;32mNone\u001b[0m\u001b[0;34m\u001b[0m\u001b[0;34m\u001b[0m\u001b[0m\n\u001b[1;32m    785\u001b[0m             \u001b[0;32melse\u001b[0m\u001b[0;34m:\u001b[0m\u001b[0;34m\u001b[0m\u001b[0;34m\u001b[0m\u001b[0m\n\u001b[0;32m--> 786\u001b[0;31m                 \u001b[0;32mraise\u001b[0m \u001b[0mKeyError\u001b[0m\u001b[0;34m(\u001b[0m\u001b[0mgpr\u001b[0m\u001b[0;34m)\u001b[0m\u001b[0;34m\u001b[0m\u001b[0;34m\u001b[0m\u001b[0m\n\u001b[0m\u001b[1;32m    787\u001b[0m         \u001b[0;32melif\u001b[0m \u001b[0misinstance\u001b[0m\u001b[0;34m(\u001b[0m\u001b[0mgpr\u001b[0m\u001b[0;34m,\u001b[0m \u001b[0mGrouper\u001b[0m\u001b[0;34m)\u001b[0m \u001b[0;32mand\u001b[0m \u001b[0mgpr\u001b[0m\u001b[0;34m.\u001b[0m\u001b[0mkey\u001b[0m \u001b[0;32mis\u001b[0m \u001b[0;32mnot\u001b[0m \u001b[0;32mNone\u001b[0m\u001b[0;34m:\u001b[0m\u001b[0;34m\u001b[0m\u001b[0;34m\u001b[0m\u001b[0m\n\u001b[1;32m    788\u001b[0m             \u001b[0;31m# Add key to exclusions\u001b[0m\u001b[0;34m\u001b[0m\u001b[0;34m\u001b[0m\u001b[0;34m\u001b[0m\u001b[0m\n",
            "\u001b[0;31mKeyError\u001b[0m: 'time'"
          ]
        }
      ]
    },
    {
      "cell_type": "code",
      "metadata": {
        "id": "5347g8EQB8dW"
      },
      "source": [
        "test[test['time'] != 24]"
      ],
      "execution_count": null,
      "outputs": []
    },
    {
      "cell_type": "code",
      "metadata": {
        "id": "XFR7Ae-qDhR_"
      },
      "source": [
        "# todo：temp, humidity, hour三個欄位改為類別型，避免overfitting問題\n",
        "# todo：視覺化corr低的變數，看可不可以做成類別型\n",
        "# todo：修改程式碼（嘗試更精簡語法）\n",
        "\n",
        "###########以下已完成###########\n",
        "# todo：研究如何避免linear regression出現負值（exponential）\n",
        "# todo：把testing data放入資料中，就不需要重複資料處理\n",
        "# todo：嘗試使用time series概念（新增前幾個月的租借量為feature，假設是，前幾個月的銷量有助於預測近幾個月，可能是因為功能有更多人使用了）\n",
        "# 用groupby做每日平均，再用條件式判斷塞入值\n",
        "# 做Feature scaling"
      ],
      "execution_count": null,
      "outputs": []
    }
  ]
}